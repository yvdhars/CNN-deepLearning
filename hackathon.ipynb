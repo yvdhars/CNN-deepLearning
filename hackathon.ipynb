{
  "nbformat": 4,
  "nbformat_minor": 0,
  "metadata": {
    "colab": {
      "name": "deeplearning",
      "provenance": [],
      "collapsed_sections": []
    },
    "kernelspec": {
      "name": "python3",
      "display_name": "Python 3"
    },
    "accelerator": "TPU"
  },
  "cells": [
    {
      "cell_type": "code",
      "metadata": {
        "id": "dWSaqH-DYUJt",
        "colab_type": "code",
        "outputId": "c4310867-cf6d-4ea6-91be-77234777e33c",
        "colab": {
          "base_uri": "https://localhost:8080/",
          "height": 125
        }
      },
      "source": [
        "from google.colab import drive\n",
        "drive.mount('/drive')"
      ],
      "execution_count": 1,
      "outputs": [
        {
          "output_type": "stream",
          "text": [
            "Go to this URL in a browser: https://accounts.google.com/o/oauth2/auth?client_id=947318989803-6bn6qk8qdgf4n4g3pfee6491hc0brc4i.apps.googleusercontent.com&redirect_uri=urn%3aietf%3awg%3aoauth%3a2.0%3aoob&response_type=code&scope=email%20https%3a%2f%2fwww.googleapis.com%2fauth%2fdocs.test%20https%3a%2f%2fwww.googleapis.com%2fauth%2fdrive%20https%3a%2f%2fwww.googleapis.com%2fauth%2fdrive.photos.readonly%20https%3a%2f%2fwww.googleapis.com%2fauth%2fpeopleapi.readonly\n",
            "\n",
            "Enter your authorization code:\n",
            "··········\n",
            "Mounted at /drive\n"
          ],
          "name": "stdout"
        }
      ]
    },
    {
      "cell_type": "code",
      "metadata": {
        "id": "9LCXPIV7Yb4i",
        "colab_type": "code",
        "colab": {}
      },
      "source": [
        "import os "
      ],
      "execution_count": 0,
      "outputs": []
    },
    {
      "cell_type": "code",
      "metadata": {
        "id": "Rn4Q8wRfhFW3",
        "colab_type": "code",
        "colab": {}
      },
      "source": [
        "os.chdir('/drive/My Drive/hackathon_deep_learning')"
      ],
      "execution_count": 0,
      "outputs": []
    },
    {
      "cell_type": "code",
      "metadata": {
        "id": "l9X_k6zehR03",
        "colab_type": "code",
        "outputId": "730012b8-d0f8-4bdd-8f30-4aca378b1ff9",
        "colab": {
          "base_uri": "https://localhost:8080/",
          "height": 34
        }
      },
      "source": [
        "\n",
        "os.getcwd()"
      ],
      "execution_count": 4,
      "outputs": [
        {
          "output_type": "execute_result",
          "data": {
            "text/plain": [
              "'/drive/My Drive/hackathon_deep_learning'"
            ]
          },
          "metadata": {
            "tags": []
          },
          "execution_count": 4
        }
      ]
    },
    {
      "cell_type": "code",
      "metadata": {
        "id": "ytVXgzYthj09",
        "colab_type": "code",
        "colab": {}
      },
      "source": [
        "import pandas as pd \n",
        "import numpy as np \n",
        "import matplotlib.pyplot as plt"
      ],
      "execution_count": 0,
      "outputs": []
    },
    {
      "cell_type": "code",
      "metadata": {
        "id": "ga73mbrdhp7D",
        "colab_type": "code",
        "colab": {}
      },
      "source": [
        "train = pd.read_csv('hackathon_images_train.csv')"
      ],
      "execution_count": 0,
      "outputs": []
    },
    {
      "cell_type": "code",
      "metadata": {
        "id": "rEgNhkjdh29H",
        "colab_type": "code",
        "colab": {}
      },
      "source": [
        "test = pd.read_csv('hackathon_images_test.csv')"
      ],
      "execution_count": 0,
      "outputs": []
    },
    {
      "cell_type": "code",
      "metadata": {
        "id": "TbvJAVwCh-Pt",
        "colab_type": "code",
        "outputId": "cca11ce9-3c46-4807-af91-4aa3c016fc9b",
        "colab": {
          "base_uri": "https://localhost:8080/",
          "height": 246
        }
      },
      "source": [
        "train.head()"
      ],
      "execution_count": 8,
      "outputs": [
        {
          "output_type": "execute_result",
          "data": {
            "text/html": [
              "<div>\n",
              "<style scoped>\n",
              "    .dataframe tbody tr th:only-of-type {\n",
              "        vertical-align: middle;\n",
              "    }\n",
              "\n",
              "    .dataframe tbody tr th {\n",
              "        vertical-align: top;\n",
              "    }\n",
              "\n",
              "    .dataframe thead th {\n",
              "        text-align: right;\n",
              "    }\n",
              "</style>\n",
              "<table border=\"1\" class=\"dataframe\">\n",
              "  <thead>\n",
              "    <tr style=\"text-align: right;\">\n",
              "      <th></th>\n",
              "      <th>Labels</th>\n",
              "      <th>pixels0</th>\n",
              "      <th>pixels1</th>\n",
              "      <th>pixels2</th>\n",
              "      <th>pixels3</th>\n",
              "      <th>pixels4</th>\n",
              "      <th>pixels5</th>\n",
              "      <th>pixels6</th>\n",
              "      <th>pixels7</th>\n",
              "      <th>pixels8</th>\n",
              "      <th>pixels9</th>\n",
              "      <th>pixels10</th>\n",
              "      <th>pixels11</th>\n",
              "      <th>pixels12</th>\n",
              "      <th>pixels13</th>\n",
              "      <th>pixels14</th>\n",
              "      <th>pixels15</th>\n",
              "      <th>pixels16</th>\n",
              "      <th>pixels17</th>\n",
              "      <th>pixels18</th>\n",
              "      <th>pixels19</th>\n",
              "      <th>pixels20</th>\n",
              "      <th>pixels21</th>\n",
              "      <th>pixels22</th>\n",
              "      <th>pixels23</th>\n",
              "      <th>pixels24</th>\n",
              "      <th>pixels25</th>\n",
              "      <th>pixels26</th>\n",
              "      <th>pixels27</th>\n",
              "      <th>pixels28</th>\n",
              "      <th>pixels29</th>\n",
              "      <th>pixels30</th>\n",
              "      <th>pixels31</th>\n",
              "      <th>pixels32</th>\n",
              "      <th>pixels33</th>\n",
              "      <th>pixels34</th>\n",
              "      <th>pixels35</th>\n",
              "      <th>pixels36</th>\n",
              "      <th>pixels37</th>\n",
              "      <th>pixels38</th>\n",
              "      <th>...</th>\n",
              "      <th>pixels9960</th>\n",
              "      <th>pixels9961</th>\n",
              "      <th>pixels9962</th>\n",
              "      <th>pixels9963</th>\n",
              "      <th>pixels9964</th>\n",
              "      <th>pixels9965</th>\n",
              "      <th>pixels9966</th>\n",
              "      <th>pixels9967</th>\n",
              "      <th>pixels9968</th>\n",
              "      <th>pixels9969</th>\n",
              "      <th>pixels9970</th>\n",
              "      <th>pixels9971</th>\n",
              "      <th>pixels9972</th>\n",
              "      <th>pixels9973</th>\n",
              "      <th>pixels9974</th>\n",
              "      <th>pixels9975</th>\n",
              "      <th>pixels9976</th>\n",
              "      <th>pixels9977</th>\n",
              "      <th>pixels9978</th>\n",
              "      <th>pixels9979</th>\n",
              "      <th>pixels9980</th>\n",
              "      <th>pixels9981</th>\n",
              "      <th>pixels9982</th>\n",
              "      <th>pixels9983</th>\n",
              "      <th>pixels9984</th>\n",
              "      <th>pixels9985</th>\n",
              "      <th>pixels9986</th>\n",
              "      <th>pixels9987</th>\n",
              "      <th>pixels9988</th>\n",
              "      <th>pixels9989</th>\n",
              "      <th>pixels9990</th>\n",
              "      <th>pixels9991</th>\n",
              "      <th>pixels9992</th>\n",
              "      <th>pixels9993</th>\n",
              "      <th>pixels9994</th>\n",
              "      <th>pixels9995</th>\n",
              "      <th>pixels9996</th>\n",
              "      <th>pixels9997</th>\n",
              "      <th>pixels9998</th>\n",
              "      <th>pixels9999</th>\n",
              "    </tr>\n",
              "  </thead>\n",
              "  <tbody>\n",
              "    <tr>\n",
              "      <th>0</th>\n",
              "      <td>Faces_easy</td>\n",
              "      <td>84.0</td>\n",
              "      <td>83.0</td>\n",
              "      <td>82.0</td>\n",
              "      <td>80.0</td>\n",
              "      <td>77.0</td>\n",
              "      <td>76.0</td>\n",
              "      <td>71.0</td>\n",
              "      <td>71.0</td>\n",
              "      <td>72.0</td>\n",
              "      <td>73.0</td>\n",
              "      <td>73.0</td>\n",
              "      <td>65.0</td>\n",
              "      <td>65.0</td>\n",
              "      <td>62.0</td>\n",
              "      <td>63.0</td>\n",
              "      <td>68.0</td>\n",
              "      <td>65.0</td>\n",
              "      <td>65.0</td>\n",
              "      <td>72.0</td>\n",
              "      <td>77.0</td>\n",
              "      <td>86.0</td>\n",
              "      <td>85.0</td>\n",
              "      <td>88.0</td>\n",
              "      <td>84.0</td>\n",
              "      <td>87.0</td>\n",
              "      <td>82.0</td>\n",
              "      <td>79.0</td>\n",
              "      <td>62.0</td>\n",
              "      <td>80.0</td>\n",
              "      <td>80.0</td>\n",
              "      <td>83.0</td>\n",
              "      <td>84.0</td>\n",
              "      <td>82.0</td>\n",
              "      <td>87.0</td>\n",
              "      <td>91.0</td>\n",
              "      <td>87.0</td>\n",
              "      <td>85.0</td>\n",
              "      <td>85.0</td>\n",
              "      <td>89.0</td>\n",
              "      <td>...</td>\n",
              "      <td>189.0</td>\n",
              "      <td>185.0</td>\n",
              "      <td>193.0</td>\n",
              "      <td>194.0</td>\n",
              "      <td>195.0</td>\n",
              "      <td>197.0</td>\n",
              "      <td>194.0</td>\n",
              "      <td>190.0</td>\n",
              "      <td>188.0</td>\n",
              "      <td>185.0</td>\n",
              "      <td>184.0</td>\n",
              "      <td>186.0</td>\n",
              "      <td>186.0</td>\n",
              "      <td>185.0</td>\n",
              "      <td>187.0</td>\n",
              "      <td>188.0</td>\n",
              "      <td>184.0</td>\n",
              "      <td>187.0</td>\n",
              "      <td>183.0</td>\n",
              "      <td>184.0</td>\n",
              "      <td>188.0</td>\n",
              "      <td>192.0</td>\n",
              "      <td>193.0</td>\n",
              "      <td>202.0</td>\n",
              "      <td>206.0</td>\n",
              "      <td>207.0</td>\n",
              "      <td>203.0</td>\n",
              "      <td>228.0</td>\n",
              "      <td>226.0</td>\n",
              "      <td>226.0</td>\n",
              "      <td>225.0</td>\n",
              "      <td>213.0</td>\n",
              "      <td>221.0</td>\n",
              "      <td>220.0</td>\n",
              "      <td>219.0</td>\n",
              "      <td>221.0</td>\n",
              "      <td>222.0</td>\n",
              "      <td>222.0</td>\n",
              "      <td>222.0</td>\n",
              "      <td>223.0</td>\n",
              "    </tr>\n",
              "    <tr>\n",
              "      <th>1</th>\n",
              "      <td>airplanes</td>\n",
              "      <td>255.0</td>\n",
              "      <td>255.0</td>\n",
              "      <td>255.0</td>\n",
              "      <td>255.0</td>\n",
              "      <td>255.0</td>\n",
              "      <td>255.0</td>\n",
              "      <td>255.0</td>\n",
              "      <td>255.0</td>\n",
              "      <td>255.0</td>\n",
              "      <td>255.0</td>\n",
              "      <td>254.0</td>\n",
              "      <td>198.0</td>\n",
              "      <td>197.0</td>\n",
              "      <td>197.0</td>\n",
              "      <td>195.0</td>\n",
              "      <td>195.0</td>\n",
              "      <td>195.0</td>\n",
              "      <td>195.0</td>\n",
              "      <td>196.0</td>\n",
              "      <td>196.0</td>\n",
              "      <td>195.0</td>\n",
              "      <td>195.0</td>\n",
              "      <td>195.0</td>\n",
              "      <td>195.0</td>\n",
              "      <td>195.0</td>\n",
              "      <td>196.0</td>\n",
              "      <td>196.0</td>\n",
              "      <td>195.0</td>\n",
              "      <td>194.0</td>\n",
              "      <td>195.0</td>\n",
              "      <td>195.0</td>\n",
              "      <td>195.0</td>\n",
              "      <td>196.0</td>\n",
              "      <td>197.0</td>\n",
              "      <td>196.0</td>\n",
              "      <td>195.0</td>\n",
              "      <td>197.0</td>\n",
              "      <td>198.0</td>\n",
              "      <td>198.0</td>\n",
              "      <td>...</td>\n",
              "      <td>179.0</td>\n",
              "      <td>174.0</td>\n",
              "      <td>192.0</td>\n",
              "      <td>154.0</td>\n",
              "      <td>171.0</td>\n",
              "      <td>200.0</td>\n",
              "      <td>186.0</td>\n",
              "      <td>194.0</td>\n",
              "      <td>206.0</td>\n",
              "      <td>209.0</td>\n",
              "      <td>211.0</td>\n",
              "      <td>168.0</td>\n",
              "      <td>181.0</td>\n",
              "      <td>205.0</td>\n",
              "      <td>186.0</td>\n",
              "      <td>200.0</td>\n",
              "      <td>175.0</td>\n",
              "      <td>175.0</td>\n",
              "      <td>171.0</td>\n",
              "      <td>204.0</td>\n",
              "      <td>208.0</td>\n",
              "      <td>179.0</td>\n",
              "      <td>179.0</td>\n",
              "      <td>180.0</td>\n",
              "      <td>189.0</td>\n",
              "      <td>163.0</td>\n",
              "      <td>173.0</td>\n",
              "      <td>196.0</td>\n",
              "      <td>190.0</td>\n",
              "      <td>178.0</td>\n",
              "      <td>179.0</td>\n",
              "      <td>254.0</td>\n",
              "      <td>255.0</td>\n",
              "      <td>255.0</td>\n",
              "      <td>255.0</td>\n",
              "      <td>255.0</td>\n",
              "      <td>255.0</td>\n",
              "      <td>255.0</td>\n",
              "      <td>255.0</td>\n",
              "      <td>255.0</td>\n",
              "    </tr>\n",
              "    <tr>\n",
              "      <th>2</th>\n",
              "      <td>Motorbikes</td>\n",
              "      <td>255.0</td>\n",
              "      <td>255.0</td>\n",
              "      <td>255.0</td>\n",
              "      <td>255.0</td>\n",
              "      <td>255.0</td>\n",
              "      <td>255.0</td>\n",
              "      <td>255.0</td>\n",
              "      <td>255.0</td>\n",
              "      <td>255.0</td>\n",
              "      <td>255.0</td>\n",
              "      <td>255.0</td>\n",
              "      <td>255.0</td>\n",
              "      <td>255.0</td>\n",
              "      <td>255.0</td>\n",
              "      <td>255.0</td>\n",
              "      <td>255.0</td>\n",
              "      <td>255.0</td>\n",
              "      <td>255.0</td>\n",
              "      <td>255.0</td>\n",
              "      <td>255.0</td>\n",
              "      <td>255.0</td>\n",
              "      <td>255.0</td>\n",
              "      <td>255.0</td>\n",
              "      <td>255.0</td>\n",
              "      <td>255.0</td>\n",
              "      <td>255.0</td>\n",
              "      <td>255.0</td>\n",
              "      <td>255.0</td>\n",
              "      <td>255.0</td>\n",
              "      <td>255.0</td>\n",
              "      <td>255.0</td>\n",
              "      <td>255.0</td>\n",
              "      <td>255.0</td>\n",
              "      <td>255.0</td>\n",
              "      <td>255.0</td>\n",
              "      <td>255.0</td>\n",
              "      <td>255.0</td>\n",
              "      <td>255.0</td>\n",
              "      <td>255.0</td>\n",
              "      <td>...</td>\n",
              "      <td>15.0</td>\n",
              "      <td>16.0</td>\n",
              "      <td>19.0</td>\n",
              "      <td>17.0</td>\n",
              "      <td>16.0</td>\n",
              "      <td>16.0</td>\n",
              "      <td>18.0</td>\n",
              "      <td>12.0</td>\n",
              "      <td>25.0</td>\n",
              "      <td>20.0</td>\n",
              "      <td>17.0</td>\n",
              "      <td>20.0</td>\n",
              "      <td>18.0</td>\n",
              "      <td>16.0</td>\n",
              "      <td>51.0</td>\n",
              "      <td>28.0</td>\n",
              "      <td>23.0</td>\n",
              "      <td>12.0</td>\n",
              "      <td>16.0</td>\n",
              "      <td>57.0</td>\n",
              "      <td>22.0</td>\n",
              "      <td>16.0</td>\n",
              "      <td>10.0</td>\n",
              "      <td>17.0</td>\n",
              "      <td>20.0</td>\n",
              "      <td>25.0</td>\n",
              "      <td>26.0</td>\n",
              "      <td>223.0</td>\n",
              "      <td>254.0</td>\n",
              "      <td>255.0</td>\n",
              "      <td>255.0</td>\n",
              "      <td>255.0</td>\n",
              "      <td>255.0</td>\n",
              "      <td>255.0</td>\n",
              "      <td>255.0</td>\n",
              "      <td>255.0</td>\n",
              "      <td>255.0</td>\n",
              "      <td>255.0</td>\n",
              "      <td>255.0</td>\n",
              "      <td>255.0</td>\n",
              "    </tr>\n",
              "    <tr>\n",
              "      <th>3</th>\n",
              "      <td>Leopards</td>\n",
              "      <td>2.0</td>\n",
              "      <td>0.0</td>\n",
              "      <td>2.0</td>\n",
              "      <td>1.0</td>\n",
              "      <td>0.0</td>\n",
              "      <td>2.0</td>\n",
              "      <td>1.0</td>\n",
              "      <td>0.0</td>\n",
              "      <td>2.0</td>\n",
              "      <td>2.0</td>\n",
              "      <td>2.0</td>\n",
              "      <td>2.0</td>\n",
              "      <td>2.0</td>\n",
              "      <td>1.0</td>\n",
              "      <td>1.0</td>\n",
              "      <td>0.0</td>\n",
              "      <td>0.0</td>\n",
              "      <td>1.0</td>\n",
              "      <td>0.0</td>\n",
              "      <td>2.0</td>\n",
              "      <td>3.0</td>\n",
              "      <td>2.0</td>\n",
              "      <td>1.0</td>\n",
              "      <td>1.0</td>\n",
              "      <td>1.0</td>\n",
              "      <td>1.0</td>\n",
              "      <td>1.0</td>\n",
              "      <td>1.0</td>\n",
              "      <td>1.0</td>\n",
              "      <td>2.0</td>\n",
              "      <td>0.0</td>\n",
              "      <td>0.0</td>\n",
              "      <td>2.0</td>\n",
              "      <td>6.0</td>\n",
              "      <td>2.0</td>\n",
              "      <td>3.0</td>\n",
              "      <td>0.0</td>\n",
              "      <td>2.0</td>\n",
              "      <td>2.0</td>\n",
              "      <td>...</td>\n",
              "      <td>18.0</td>\n",
              "      <td>24.0</td>\n",
              "      <td>24.0</td>\n",
              "      <td>19.0</td>\n",
              "      <td>24.0</td>\n",
              "      <td>15.0</td>\n",
              "      <td>20.0</td>\n",
              "      <td>16.0</td>\n",
              "      <td>22.0</td>\n",
              "      <td>16.0</td>\n",
              "      <td>25.0</td>\n",
              "      <td>18.0</td>\n",
              "      <td>20.0</td>\n",
              "      <td>25.0</td>\n",
              "      <td>26.0</td>\n",
              "      <td>21.0</td>\n",
              "      <td>22.0</td>\n",
              "      <td>20.0</td>\n",
              "      <td>23.0</td>\n",
              "      <td>18.0</td>\n",
              "      <td>20.0</td>\n",
              "      <td>21.0</td>\n",
              "      <td>17.0</td>\n",
              "      <td>22.0</td>\n",
              "      <td>16.0</td>\n",
              "      <td>22.0</td>\n",
              "      <td>12.0</td>\n",
              "      <td>14.0</td>\n",
              "      <td>19.0</td>\n",
              "      <td>18.0</td>\n",
              "      <td>17.0</td>\n",
              "      <td>18.0</td>\n",
              "      <td>13.0</td>\n",
              "      <td>17.0</td>\n",
              "      <td>19.0</td>\n",
              "      <td>14.0</td>\n",
              "      <td>20.0</td>\n",
              "      <td>11.0</td>\n",
              "      <td>2.0</td>\n",
              "      <td>5.0</td>\n",
              "    </tr>\n",
              "    <tr>\n",
              "      <th>4</th>\n",
              "      <td>Faces</td>\n",
              "      <td>125.0</td>\n",
              "      <td>123.0</td>\n",
              "      <td>123.0</td>\n",
              "      <td>120.0</td>\n",
              "      <td>120.0</td>\n",
              "      <td>116.0</td>\n",
              "      <td>114.0</td>\n",
              "      <td>114.0</td>\n",
              "      <td>115.0</td>\n",
              "      <td>99.0</td>\n",
              "      <td>63.0</td>\n",
              "      <td>183.0</td>\n",
              "      <td>185.0</td>\n",
              "      <td>188.0</td>\n",
              "      <td>191.0</td>\n",
              "      <td>197.0</td>\n",
              "      <td>199.0</td>\n",
              "      <td>193.0</td>\n",
              "      <td>195.0</td>\n",
              "      <td>203.0</td>\n",
              "      <td>202.0</td>\n",
              "      <td>205.0</td>\n",
              "      <td>208.0</td>\n",
              "      <td>210.0</td>\n",
              "      <td>209.0</td>\n",
              "      <td>209.0</td>\n",
              "      <td>210.0</td>\n",
              "      <td>217.0</td>\n",
              "      <td>217.0</td>\n",
              "      <td>218.0</td>\n",
              "      <td>217.0</td>\n",
              "      <td>220.0</td>\n",
              "      <td>221.0</td>\n",
              "      <td>219.0</td>\n",
              "      <td>214.0</td>\n",
              "      <td>213.0</td>\n",
              "      <td>209.0</td>\n",
              "      <td>218.0</td>\n",
              "      <td>223.0</td>\n",
              "      <td>...</td>\n",
              "      <td>193.0</td>\n",
              "      <td>190.0</td>\n",
              "      <td>192.0</td>\n",
              "      <td>195.0</td>\n",
              "      <td>185.0</td>\n",
              "      <td>189.0</td>\n",
              "      <td>187.0</td>\n",
              "      <td>171.0</td>\n",
              "      <td>187.0</td>\n",
              "      <td>187.0</td>\n",
              "      <td>196.0</td>\n",
              "      <td>187.0</td>\n",
              "      <td>186.0</td>\n",
              "      <td>173.0</td>\n",
              "      <td>183.0</td>\n",
              "      <td>183.0</td>\n",
              "      <td>172.0</td>\n",
              "      <td>180.0</td>\n",
              "      <td>181.0</td>\n",
              "      <td>175.0</td>\n",
              "      <td>173.0</td>\n",
              "      <td>172.0</td>\n",
              "      <td>169.0</td>\n",
              "      <td>166.0</td>\n",
              "      <td>164.0</td>\n",
              "      <td>152.0</td>\n",
              "      <td>140.0</td>\n",
              "      <td>135.0</td>\n",
              "      <td>84.0</td>\n",
              "      <td>86.0</td>\n",
              "      <td>104.0</td>\n",
              "      <td>123.0</td>\n",
              "      <td>123.0</td>\n",
              "      <td>102.0</td>\n",
              "      <td>139.0</td>\n",
              "      <td>116.0</td>\n",
              "      <td>100.0</td>\n",
              "      <td>112.0</td>\n",
              "      <td>118.0</td>\n",
              "      <td>139.0</td>\n",
              "    </tr>\n",
              "  </tbody>\n",
              "</table>\n",
              "<p>5 rows × 10001 columns</p>\n",
              "</div>"
            ],
            "text/plain": [
              "       Labels  pixels0  pixels1  ...  pixels9997  pixels9998  pixels9999\n",
              "0  Faces_easy     84.0     83.0  ...       222.0       222.0       223.0\n",
              "1   airplanes    255.0    255.0  ...       255.0       255.0       255.0\n",
              "2  Motorbikes    255.0    255.0  ...       255.0       255.0       255.0\n",
              "3    Leopards      2.0      0.0  ...        11.0         2.0         5.0\n",
              "4       Faces    125.0    123.0  ...       112.0       118.0       139.0\n",
              "\n",
              "[5 rows x 10001 columns]"
            ]
          },
          "metadata": {
            "tags": []
          },
          "execution_count": 8
        }
      ]
    },
    {
      "cell_type": "code",
      "metadata": {
        "id": "XzEDW2B5iAMt",
        "colab_type": "code",
        "outputId": "7f37a6be-9fde-4917-cc21-62d41e4fda10",
        "colab": {
          "base_uri": "https://localhost:8080/",
          "height": 105
        }
      },
      "source": [
        "train.info()"
      ],
      "execution_count": 9,
      "outputs": [
        {
          "output_type": "stream",
          "text": [
            "<class 'pandas.core.frame.DataFrame'>\n",
            "RangeIndex: 1671 entries, 0 to 1670\n",
            "Columns: 10001 entries, Labels to pixels9999\n",
            "dtypes: float64(10000), object(1)\n",
            "memory usage: 127.5+ MB\n"
          ],
          "name": "stdout"
        }
      ]
    },
    {
      "cell_type": "code",
      "metadata": {
        "id": "CB-RC0LziZ-Z",
        "colab_type": "code",
        "colab": {}
      },
      "source": [
        ""
      ],
      "execution_count": 0,
      "outputs": []
    },
    {
      "cell_type": "code",
      "metadata": {
        "id": "Kf0I5giMj-so",
        "colab_type": "code",
        "colab": {}
      },
      "source": [
        "x_train = train.drop('Labels',axis=1)"
      ],
      "execution_count": 0,
      "outputs": []
    },
    {
      "cell_type": "code",
      "metadata": {
        "id": "x011FnEUkvAN",
        "colab_type": "code",
        "colab": {}
      },
      "source": [
        "y_train = train.Labels"
      ],
      "execution_count": 0,
      "outputs": []
    },
    {
      "cell_type": "code",
      "metadata": {
        "id": "E3996yuykyrx",
        "colab_type": "code",
        "colab": {}
      },
      "source": [
        "x_train = x_train.values"
      ],
      "execution_count": 0,
      "outputs": []
    },
    {
      "cell_type": "code",
      "metadata": {
        "id": "4m9mJaQOlBCa",
        "colab_type": "code",
        "colab": {}
      },
      "source": [
        "x_train = x_train.reshape(-1,100,100,1)"
      ],
      "execution_count": 0,
      "outputs": []
    },
    {
      "cell_type": "code",
      "metadata": {
        "id": "8b3r67-r79Cj",
        "colab_type": "code",
        "colab": {
          "base_uri": "https://localhost:8080/",
          "height": 34
        },
        "outputId": "23a86558-f96a-434d-978f-d3d79c000ee7"
      },
      "source": [
        "x_train.shape"
      ],
      "execution_count": 65,
      "outputs": [
        {
          "output_type": "execute_result",
          "data": {
            "text/plain": [
              "(1671, 100, 100, 1)"
            ]
          },
          "metadata": {
            "tags": []
          },
          "execution_count": 65
        }
      ]
    },
    {
      "cell_type": "code",
      "metadata": {
        "id": "VG1OEGQClFfw",
        "colab_type": "code",
        "outputId": "738096cc-35f2-4714-9153-3a05b89ca53b",
        "colab": {
          "base_uri": "https://localhost:8080/",
          "height": 267
        }
      },
      "source": [
        "plt.imshow(x_train[0,:],cmap='gray')\n",
        "plt.show()"
      ],
      "execution_count": 51,
      "outputs": [
        {
          "output_type": "display_data",
          "data": {
            "image/png": "[encoded data removed]",
            "text/plain": [
              "<Figure size 432x288 with 1 Axes>"
            ]
          },
          "metadata": {
            "tags": []
          }
        }
      ]
    },
    {
      "cell_type": "code",
      "metadata": {
        "id": "CChGab-QlaAq",
        "colab_type": "code",
        "outputId": "627ec57e-537c-41d1-b75b-ddff005cd357",
        "colab": {
          "base_uri": "https://localhost:8080/",
          "height": 34
        }
      },
      "source": [
        "x_train.shape"
      ],
      "execution_count": 46,
      "outputs": [
        {
          "output_type": "execute_result",
          "data": {
            "text/plain": [
              "(1671, 100, 100, 1)"
            ]
          },
          "metadata": {
            "tags": []
          },
          "execution_count": 46
        }
      ]
    },
    {
      "cell_type": "code",
      "metadata": {
        "id": "hdahWV_Fl_KO",
        "colab_type": "code",
        "outputId": "1dd4f4cf-0e1b-4087-9e3d-603c5a9ff146",
        "colab": {
          "base_uri": "https://localhost:8080/",
          "height": 173
        }
      },
      "source": [
        "y_train.value_counts()"
      ],
      "execution_count": 0,
      "outputs": [
        {
          "output_type": "execute_result",
          "data": {
            "text/plain": [
              "Motorbikes     488\n",
              "airplanes      275\n",
              "Faces          259\n",
              "Faces_easy     255\n",
              "watch          143\n",
              "Leopards       117\n",
              "bonsai          71\n",
              "grand_piano     63\n",
              "Name: Labels, dtype: int64"
            ]
          },
          "metadata": {
            "tags": []
          },
          "execution_count": 46
        }
      ]
    },
    {
      "cell_type": "code",
      "metadata": {
        "id": "XkvPJMUqnTP9",
        "colab_type": "code",
        "outputId": "3362cb05-cc96-4c13-8072-e40bfb689d25",
        "colab": {
          "base_uri": "https://localhost:8080/",
          "height": 267
        }
      },
      "source": [
        "plt.imshow(x_train[2,:],cmap='gray')\n",
        "plt.show()"
      ],
      "execution_count": 50,
      "outputs": [
        {
          "output_type": "display_data",
          "data": {
            "image/png": "[encoded data removed]",
            "text/plain": [
              "<Figure size 432x288 with 1 Axes>"
            ]
          },
          "metadata": {
            "tags": []
          }
        }
      ]
    },
    {
      "cell_type": "code",
      "metadata": {
        "id": "Bk-DRzXloJcG",
        "colab_type": "code",
        "outputId": "9ffb274c-43c9-4753-af04-e5c0bad0ac4d",
        "colab": {
          "base_uri": "https://localhost:8080/",
          "height": 296
        }
      },
      "source": [
        "plt.subplot(221)\n",
        "\n",
        "plt.imshow(x_train[4,:],cmap='gray')\n",
        "plt.title(y_train[4])\n",
        "\n",
        "plt.subplot(222)\n",
        "\n",
        "plt.imshow(x_train[9,:],cmap='gray')\n",
        "plt.title(y_train[9])\n",
        "\n",
        "plt.subplot(223)\n",
        "\n",
        "plt.imshow(x_train[2,:],cmap='gray')\n",
        "plt.title(y_train[2])\n",
        "\n",
        "plt.subplot(224)\n",
        "\n",
        "plt.imshow(x_train[3,:],cmap='gray')\n",
        "plt.title(y_train[3])\n",
        "\n",
        "plt.tight_layout()\n",
        "\n",
        "plt.show()\n"
      ],
      "execution_count": 49,
      "outputs": [
        {
          "output_type": "display_data",
          "data": {
            "image/png": "[encoded data removed]",
            "text/plain": [
              "<Figure size 432x288 with 4 Axes>"
            ]
          },
          "metadata": {
            "tags": []
          }
        }
      ]
    },
    {
      "cell_type": "code",
      "metadata": {
        "id": "M7GQWahUod5e",
        "colab_type": "code",
        "colab": {}
      },
      "source": [
        "y = pd.get_dummies(y_train).values"
      ],
      "execution_count": 0,
      "outputs": []
    },
    {
      "cell_type": "code",
      "metadata": {
        "id": "kDLQh7u0p6ST",
        "colab_type": "code",
        "outputId": "8cd91984-6d6c-4fd2-ef5f-27a5df9e0578",
        "colab": {
          "base_uri": "https://localhost:8080/",
          "height": 34
        }
      },
      "source": [
        "y.shape"
      ],
      "execution_count": 53,
      "outputs": [
        {
          "output_type": "execute_result",
          "data": {
            "text/plain": [
              "(1671, 8)"
            ]
          },
          "metadata": {
            "tags": []
          },
          "execution_count": 53
        }
      ]
    },
    {
      "cell_type": "markdown",
      "metadata": {
        "id": "YvAiA44brB0s",
        "colab_type": "text"
      },
      "source": [
        "## Normalizing"
      ]
    },
    {
      "cell_type": "code",
      "metadata": {
        "id": "nfJmZeL6p691",
        "colab_type": "code",
        "colab": {}
      },
      "source": [
        "x_train_norm = x_train/255."
      ],
      "execution_count": 0,
      "outputs": []
    },
    {
      "cell_type": "code",
      "metadata": {
        "id": "qrWHB3RurPgQ",
        "colab_type": "code",
        "outputId": "dae2a11d-afa6-475e-b199-49a96904c018",
        "colab": {
          "base_uri": "https://localhost:8080/",
          "height": 34
        }
      },
      "source": [
        "x_train_norm.shape"
      ],
      "execution_count": 67,
      "outputs": [
        {
          "output_type": "execute_result",
          "data": {
            "text/plain": [
              "(1671, 100, 100, 1)"
            ]
          },
          "metadata": {
            "tags": []
          },
          "execution_count": 67
        }
      ]
    },
    {
      "cell_type": "code",
      "metadata": {
        "id": "Tr_gYEcHsUYL",
        "colab_type": "code",
        "colab": {}
      },
      "source": [
        "from sklearn.model_selection import train_test_split"
      ],
      "execution_count": 0,
      "outputs": []
    },
    {
      "cell_type": "code",
      "metadata": {
        "id": "gTksJEBDsaVt",
        "colab_type": "code",
        "colab": {}
      },
      "source": [
        "train_x,valid_x,train_label,valid_label = train_test_split(x_train_norm,y,test_size=0.2,random_state=1)"
      ],
      "execution_count": 0,
      "outputs": []
    },
    {
      "cell_type": "code",
      "metadata": {
        "id": "oMXQG9fdsaJc",
        "colab_type": "code",
        "outputId": "307506bc-c751-40f2-bfe8-c50632e38adf",
        "colab": {
          "base_uri": "https://localhost:8080/",
          "height": 34
        }
      },
      "source": [
        "print(train_x.shape,valid_x.shape,train_label.shape,valid_label.shape)"
      ],
      "execution_count": 70,
      "outputs": [
        {
          "output_type": "stream",
          "text": [
            "(1336, 100, 100, 1) (335, 100, 100, 1) (1336, 8) (335, 8)\n"
          ],
          "name": "stdout"
        }
      ]
    },
    {
      "cell_type": "markdown",
      "metadata": {
        "id": "T_Q7RLw_r2kU",
        "colab_type": "text"
      },
      "source": [
        "## Convolutional Neural Network"
      ]
    },
    {
      "cell_type": "code",
      "metadata": {
        "id": "fC3OLjybrYZS",
        "colab_type": "code",
        "colab": {}
      },
      "source": [
        "import keras \n",
        "from keras.models import Sequential,Input,Model\n",
        "from keras.layers import Conv2D,MaxPooling2D,Dropout,Dense,Flatten\n",
        "from keras.layers.normalization import BatchNormalization\n",
        "from keras.layers.advanced_activations import LeakyReLU\n",
        "from keras.layers import Dropout"
      ],
      "execution_count": 0,
      "outputs": []
    },
    {
      "cell_type": "code",
      "metadata": {
        "id": "KgEzUQmyuFUJ",
        "colab_type": "code",
        "colab": {}
      },
      "source": [
        "batch_size = 50\n",
        "epochs = 100\n",
        "num_classes = 8 "
      ],
      "execution_count": 0,
      "outputs": []
    },
    {
      "cell_type": "code",
      "metadata": {
        "id": "vtCUjxKDvvKO",
        "colab_type": "code",
        "colab": {}
      },
      "source": [
        "model = Sequential()\n",
        "#conv_1\n",
        "model.add(Conv2D(32,kernel_size=(3,3),activation='relu',input_shape=(100,100,1),padding='same'))\n",
        "model.add(MaxPooling2D((2, 2)))\n",
        "model.add(Dropout(0.25))\n",
        "#conv_2\n",
        "model.add(Conv2D(64,kernel_size=(3,3),activation='relu',padding='same'))\n",
        "model.add(MaxPooling2D(2,2))\n",
        "model.add(Dropout(0.25))\n",
        "#conv_3\n",
        "model.add(Conv2D(128,kernel_size=(3,3),activation='relu',padding='same'))\n",
        "model.add(MaxPooling2D(2,2))\n",
        "model.add(Dropout(0.25))\n",
        "\n",
        "\n",
        "model.add(Flatten())\n",
        "model.add(Dense(500,activation='relu'))\n",
        "model.add(Dense(250,activation='relu'))\n",
        "model.add(Dense(125,activation='relu'))\n",
        "model.add(Dense(100,activation='relu'))\n",
        "model.add(Dropout(0.25))\n",
        "model.add(Dense(num_classes,activation='softmax'))"
      ],
      "execution_count": 0,
      "outputs": []
    },
    {
      "cell_type": "code",
      "metadata": {
        "id": "YrJxsURcvyYK",
        "colab_type": "code",
        "colab": {}
      },
      "source": [
        "model.compile(loss=keras.losses.categorical_crossentropy,optimizer=keras.optimizers.Adam(),metrics=['accuracy'])"
      ],
      "execution_count": 0,
      "outputs": []
    },
    {
      "cell_type": "code",
      "metadata": {
        "id": "VzJMCSmDC3Mz",
        "colab_type": "code",
        "colab": {
          "base_uri": "https://localhost:8080/",
          "height": 765
        },
        "outputId": "63135bd5-c0fe-48e7-bf08-7f12c3ac17bf"
      },
      "source": [
        "model.fit(x_train_norm,y, batch_size=batch_size,epochs=10,verbose=1,validation_data=(valid_x,valid_label))"
      ],
      "execution_count": 75,
      "outputs": [
        {
          "output_type": "stream",
          "text": [
            "WARNING:tensorflow:From /usr/local/lib/python3.6/dist-packages/tensorflow_core/python/ops/math_grad.py:1424: where (from tensorflow.python.ops.array_ops) is deprecated and will be removed in a future version.\n",
            "Instructions for updating:\n",
            "Use tf.where in 2.0, which has the same broadcast rule as np.where\n",
            "WARNING:tensorflow:From /usr/local/lib/python3.6/dist-packages/keras/backend/tensorflow_backend.py:1033: The name tf.assign_add is deprecated. Please use tf.compat.v1.assign_add instead.\n",
            "\n",
            "WARNING:tensorflow:From /usr/local/lib/python3.6/dist-packages/keras/backend/tensorflow_backend.py:1020: The name tf.assign is deprecated. Please use tf.compat.v1.assign instead.\n",
            "\n",
            "WARNING:tensorflow:From /usr/local/lib/python3.6/dist-packages/keras/backend/tensorflow_backend.py:3005: The name tf.Session is deprecated. Please use tf.compat.v1.Session instead.\n",
            "\n",
            "Train on 1671 samples, validate on 335 samples\n",
            "Epoch 1/10\n",
            "WARNING:tensorflow:From /usr/local/lib/python3.6/dist-packages/keras/backend/tensorflow_backend.py:190: The name tf.get_default_session is deprecated. Please use tf.compat.v1.get_default_session instead.\n",
            "\n",
            "WARNING:tensorflow:From /usr/local/lib/python3.6/dist-packages/keras/backend/tensorflow_backend.py:197: The name tf.ConfigProto is deprecated. Please use tf.compat.v1.ConfigProto instead.\n",
            "\n",
            "WARNING:tensorflow:From /usr/local/lib/python3.6/dist-packages/keras/backend/tensorflow_backend.py:207: The name tf.global_variables is deprecated. Please use tf.compat.v1.global_variables instead.\n",
            "\n",
            "WARNING:tensorflow:From /usr/local/lib/python3.6/dist-packages/keras/backend/tensorflow_backend.py:216: The name tf.is_variable_initialized is deprecated. Please use tf.compat.v1.is_variable_initialized instead.\n",
            "\n",
            "WARNING:tensorflow:From /usr/local/lib/python3.6/dist-packages/keras/backend/tensorflow_backend.py:223: The name tf.variables_initializer is deprecated. Please use tf.compat.v1.variables_initializer instead.\n",
            "\n",
            "1671/1671 [==============================] - 42s 25ms/step - loss: 1.6947 - acc: 0.3555 - val_loss: 1.3985 - val_acc: 0.5134\n",
            "Epoch 2/10\n",
            "1671/1671 [==============================] - 40s 24ms/step - loss: 1.0148 - acc: 0.6248 - val_loss: 0.6961 - val_acc: 0.7821\n",
            "Epoch 3/10\n",
            "1671/1671 [==============================] - 40s 24ms/step - loss: 0.5522 - acc: 0.8121 - val_loss: 0.3658 - val_acc: 0.8866\n",
            "Epoch 4/10\n",
            "1671/1671 [==============================] - 40s 24ms/step - loss: 0.3303 - acc: 0.9031 - val_loss: 0.2743 - val_acc: 0.9284\n",
            "Epoch 5/10\n",
            "1671/1671 [==============================] - 40s 24ms/step - loss: 0.1944 - acc: 0.9414 - val_loss: 0.1362 - val_acc: 0.9672\n",
            "Epoch 6/10\n",
            "1671/1671 [==============================] - 40s 24ms/step - loss: 0.1138 - acc: 0.9641 - val_loss: 0.1356 - val_acc: 0.9761\n",
            "Epoch 7/10\n",
            "1671/1671 [==============================] - 40s 24ms/step - loss: 0.1083 - acc: 0.9635 - val_loss: 0.0858 - val_acc: 0.9791\n",
            "Epoch 8/10\n",
            "1671/1671 [==============================] - 40s 24ms/step - loss: 0.1051 - acc: 0.9707 - val_loss: 0.0546 - val_acc: 0.9910\n",
            "Epoch 9/10\n",
            "1671/1671 [==============================] - 40s 24ms/step - loss: 0.0637 - acc: 0.9797 - val_loss: 0.2623 - val_acc: 0.8985\n",
            "Epoch 10/10\n",
            "1671/1671 [==============================] - 40s 24ms/step - loss: 0.1211 - acc: 0.9677 - val_loss: 0.0158 - val_acc: 1.0000\n"
          ],
          "name": "stdout"
        },
        {
          "output_type": "execute_result",
          "data": {
            "text/plain": [
              "<keras.callbacks.History at 0x7f11e9020be0>"
            ]
          },
          "metadata": {
            "tags": []
          },
          "execution_count": 75
        }
      ]
    },
    {
      "cell_type": "code",
      "metadata": {
        "id": "jxMRR_nH1yMh",
        "colab_type": "code",
        "outputId": "440bce9e-9b58-4453-860d-8b95d51b8ac0",
        "colab": {
          "base_uri": "https://localhost:8080/",
          "height": 105
        }
      },
      "source": [
        "test.info()"
      ],
      "execution_count": 76,
      "outputs": [
        {
          "output_type": "stream",
          "text": [
            "<class 'pandas.core.frame.DataFrame'>\n",
            "RangeIndex: 1118 entries, 0 to 1117\n",
            "Columns: 10001 entries, Labels to pixels9999\n",
            "dtypes: float64(10000), object(1)\n",
            "memory usage: 85.3+ MB\n"
          ],
          "name": "stdout"
        }
      ]
    },
    {
      "cell_type": "code",
      "metadata": {
        "id": "Pgs2wE6NTtYk",
        "colab_type": "code",
        "colab": {}
      },
      "source": [
        "x_test = test.drop('Labels',axis=1).values"
      ],
      "execution_count": 0,
      "outputs": []
    },
    {
      "cell_type": "code",
      "metadata": {
        "id": "Gv8s5Vy9VRMs",
        "colab_type": "code",
        "colab": {}
      },
      "source": [
        "y_test = test.Labels"
      ],
      "execution_count": 0,
      "outputs": []
    },
    {
      "cell_type": "code",
      "metadata": {
        "id": "3hq1e62IVqlM",
        "colab_type": "code",
        "colab": {}
      },
      "source": [
        "x_test  = x_test.reshape(-1,100,100,1)"
      ],
      "execution_count": 0,
      "outputs": []
    },
    {
      "cell_type": "code",
      "metadata": {
        "id": "6uHfoIrKVqE0",
        "colab_type": "code",
        "outputId": "acdc0cfd-3c54-41b2-d4c1-d70440d89bbc",
        "colab": {
          "base_uri": "https://localhost:8080/",
          "height": 34
        }
      },
      "source": [
        "x_test.shape"
      ],
      "execution_count": 80,
      "outputs": [
        {
          "output_type": "execute_result",
          "data": {
            "text/plain": [
              "(1118, 100, 100, 1)"
            ]
          },
          "metadata": {
            "tags": []
          },
          "execution_count": 80
        }
      ]
    },
    {
      "cell_type": "code",
      "metadata": {
        "id": "dz8PMC2vVV0N",
        "colab_type": "code",
        "colab": {}
      },
      "source": [
        "x_test = x_test/255."
      ],
      "execution_count": 0,
      "outputs": []
    },
    {
      "cell_type": "code",
      "metadata": {
        "id": "hBimSYv2WgMF",
        "colab_type": "code",
        "colab": {}
      },
      "source": [
        "y_test = pd.get_dummies(y_test).values"
      ],
      "execution_count": 0,
      "outputs": []
    },
    {
      "cell_type": "code",
      "metadata": {
        "id": "8GJpPa5tWtcG",
        "colab_type": "code",
        "outputId": "f16f6ad0-776a-49fc-f890-d5ba0bcab97c",
        "colab": {
          "base_uri": "https://localhost:8080/",
          "height": 141
        }
      },
      "source": [
        "y_test"
      ],
      "execution_count": 83,
      "outputs": [
        {
          "output_type": "execute_result",
          "data": {
            "text/plain": [
              "array([[0, 0, 1, ..., 0, 0, 0],\n",
              "       [0, 0, 0, ..., 1, 0, 0],\n",
              "       [0, 1, 0, ..., 0, 0, 0],\n",
              "       ...,\n",
              "       [0, 1, 0, ..., 0, 0, 0],\n",
              "       [0, 0, 0, ..., 0, 0, 0],\n",
              "       [1, 0, 0, ..., 0, 0, 0]], dtype=uint8)"
            ]
          },
          "metadata": {
            "tags": []
          },
          "execution_count": 83
        }
      ]
    },
    {
      "cell_type": "code",
      "metadata": {
        "id": "-nw3_-GvWurc",
        "colab_type": "code",
        "outputId": "abd8ec2d-61d9-4869-d097-8d02f400634f",
        "colab": {
          "base_uri": "https://localhost:8080/",
          "height": 52
        }
      },
      "source": [
        "model.evaluate(x_test,y_test)"
      ],
      "execution_count": 84,
      "outputs": [
        {
          "output_type": "stream",
          "text": [
            "1118/1118 [==============================] - 6s 6ms/step\n"
          ],
          "name": "stdout"
        },
        {
          "output_type": "execute_result",
          "data": {
            "text/plain": [
              "[0.16247950758191895, 0.9570661889845655]"
            ]
          },
          "metadata": {
            "tags": []
          },
          "execution_count": 84
        }
      ]
    },
    {
      "cell_type": "code",
      "metadata": {
        "id": "vEa9FabwW2iU",
        "colab_type": "code",
        "outputId": "6a3338b2-6bfd-4bb4-ec47-bcd7e0b0faba",
        "colab": {
          "base_uri": "https://localhost:8080/",
          "height": 727
        }
      },
      "source": [
        "model.summary()"
      ],
      "execution_count": 85,
      "outputs": [
        {
          "output_type": "stream",
          "text": [
            "Model: \"sequential_2\"\n",
            "_________________________________________________________________\n",
            "Layer (type)                 Output Shape              Param #   \n",
            "=================================================================\n",
            "conv2d_4 (Conv2D)            (None, 100, 100, 32)      320       \n",
            "_________________________________________________________________\n",
            "max_pooling2d_4 (MaxPooling2 (None, 50, 50, 32)        0         \n",
            "_________________________________________________________________\n",
            "dropout_5 (Dropout)          (None, 50, 50, 32)        0         \n",
            "_________________________________________________________________\n",
            "conv2d_5 (Conv2D)            (None, 50, 50, 64)        18496     \n",
            "_________________________________________________________________\n",
            "max_pooling2d_5 (MaxPooling2 (None, 25, 25, 64)        0         \n",
            "_________________________________________________________________\n",
            "dropout_6 (Dropout)          (None, 25, 25, 64)        0         \n",
            "_________________________________________________________________\n",
            "conv2d_6 (Conv2D)            (None, 25, 25, 128)       73856     \n",
            "_________________________________________________________________\n",
            "max_pooling2d_6 (MaxPooling2 (None, 12, 12, 128)       0         \n",
            "_________________________________________________________________\n",
            "dropout_7 (Dropout)          (None, 12, 12, 128)       0         \n",
            "_________________________________________________________________\n",
            "flatten_2 (Flatten)          (None, 18432)             0         \n",
            "_________________________________________________________________\n",
            "dense_6 (Dense)              (None, 500)               9216500   \n",
            "_________________________________________________________________\n",
            "dense_7 (Dense)              (None, 250)               125250    \n",
            "_________________________________________________________________\n",
            "dense_8 (Dense)              (None, 125)               31375     \n",
            "_________________________________________________________________\n",
            "dense_9 (Dense)              (None, 100)               12600     \n",
            "_________________________________________________________________\n",
            "dropout_8 (Dropout)          (None, 100)               0         \n",
            "_________________________________________________________________\n",
            "dense_10 (Dense)             (None, 8)                 808       \n",
            "=================================================================\n",
            "Total params: 9,479,205\n",
            "Trainable params: 9,479,205\n",
            "Non-trainable params: 0\n",
            "_________________________________________________________________\n"
          ],
          "name": "stdout"
        }
      ]
    },
    {
      "cell_type": "code",
      "metadata": {
        "id": "2402Ed5leYNv",
        "colab_type": "code",
        "colab": {}
      },
      "source": [
        ""
      ],
      "execution_count": 0,
      "outputs": []
    }
  ]
}